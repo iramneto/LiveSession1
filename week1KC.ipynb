{
 "cells": [
  {
   "cell_type": "markdown",
   "id": "f2bac253",
   "metadata": {},
   "source": [
    "Question 1"
   ]
  },
  {
   "cell_type": "code",
   "execution_count": 1,
   "id": "94df64a5",
   "metadata": {},
   "outputs": [
    {
     "data": {
      "text/plain": [
       "246510546910"
      ]
     },
     "execution_count": 1,
     "metadata": {},
     "output_type": "execute_result"
    }
   ],
   "source": [
    "12387123478 + 234123423432"
   ]
  },
  {
   "cell_type": "markdown",
   "id": "dea9f5aa",
   "metadata": {},
   "source": [
    "Question 2"
   ]
  },
  {
   "cell_type": "code",
   "execution_count": 2,
   "id": "a01cab7d",
   "metadata": {},
   "outputs": [
    {
     "data": {
      "text/plain": [
       "75523322376"
      ]
     },
     "execution_count": 2,
     "metadata": {},
     "output_type": "execute_result"
    }
   ],
   "source": [
    "6134123 * 12312"
   ]
  },
  {
   "cell_type": "markdown",
   "id": "fae5ffb1",
   "metadata": {},
   "source": [
    "Question 3"
   ]
  },
  {
   "cell_type": "code",
   "execution_count": 4,
   "id": "e214f6ae",
   "metadata": {},
   "outputs": [
    {
     "data": {
      "text/plain": [
       "282475249"
      ]
     },
     "execution_count": 4,
     "metadata": {},
     "output_type": "execute_result"
    }
   ],
   "source": [
    "7 ** 10"
   ]
  },
  {
   "cell_type": "code",
   "execution_count": null,
   "id": "7f9936c4",
   "metadata": {},
   "outputs": [],
   "source": []
  }
 ],
 "metadata": {
  "kernelspec": {
   "display_name": "Python 3",
   "language": "python",
   "name": "python3"
  },
  "language_info": {
   "codemirror_mode": {
    "name": "ipython",
    "version": 3
   },
   "file_extension": ".py",
   "mimetype": "text/x-python",
   "name": "python",
   "nbconvert_exporter": "python",
   "pygments_lexer": "ipython3",
   "version": "3.12.1"
  }
 },
 "nbformat": 4,
 "nbformat_minor": 5
}
